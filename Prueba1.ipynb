{
 "cells": [
  {
   "cell_type": "code",
   "execution_count": 1,
   "metadata": {},
   "outputs": [],
   "source": [
    "import cv2\n",
    "import numpy as np\n",
    "from matplotlib import pyplot as plt"
   ]
  },
  {
   "cell_type": "markdown",
   "metadata": {},
   "source": [
    "**Unidad 1**\n",
    "\n",
    "Semantics: Extreae informacion de humanos, ecenas y contexto al rededor y responde la pregunta: Que accion esta haciendo?\n",
    "        atributos: objetos/caracteristicas/colores que dan mas informacion. ejemplo: hombre y \"patineta\" = hombre andando en patineta \n",
    "\n",
    "Tipos de clasificacion\n",
    "1) Segmentacion Semantica: Clasifica cada pixcel con una etiqueta \n",
    "2) Clasificacion + Localizacion: output: una categoria (gato) + las coordenadas de localizacion \n",
    "3) Deteccion de Objeto: output: varias categorias (gato,perro) + las coordenadas de cada uno\n",
    "4) Segmentacion de instancia: Clasifica cada pixel pero distingue instancias\n",
    "\n",
    "\n",
    "\n",
    "**Unidad 2**\n",
    "\n",
    "Escla de grises (BN): cada pixel tiene un valor (intencidad) de entre 0(negro) y 255(blanco) \n",
    "\n",
    "RGB: Red, Green, Blue: lo mismo pero en 3 dimenciones por cada pixel. Ejemplo de pixel: [90, 0 , 200] algo rojo, nada verde, muy azul.\n",
    "\n",
    "LAB, HSV, YUV, HSL\n",
    "\n",
    "**Unidad 3**\n",
    "Mejoramiento de la imagen\n",
    "1. Operaciones puntuales\n",
    "\n",
    "Binarizacion por umbral: Se toma un valor de umbral T (threshold) y por ejemplo: todos lo pixeles con valores menores al T se muestran en negro (0)\n",
    "\n",
    "Hard Threshold = negro o blanco. Un umbral estricto\n",
    "Soft Threshold = mas gradual. ejemplo: pixeles entre 120 y 136 se les aplica cierta funcion, los demas, 0 o 255\n",
    "\n",
    "Transformacion de intensidad: cambiar los valores de los pixeles a otroas valores aplicando alguna funcion lineal o no lineal\n",
    "\n",
    "Aumento lineal del contraste \n",
    "\n",
    "Ecualización del histograma: a cada pixel le resto o multiplico cierto numero para hacerlas mas brillante o oscura. \n",
    "Existen algunos métodos en cambiar el contraste y el brillo de una imagen, uno de los más comunes tiene que ver con la siguienteecuación: g(x, y) = α · f(x, y) + β. Donde los parámetros α y β son conocidos como ganancia y bias, y comúnmente se utiliza estos\n",
    "parámetros para controlar el contraste y el brillo respectivamente.\n",
    "\n",
    "2. Filtrado\n",
    "\n",
    "Filtrado en el dominio espacial\n",
    "\n",
    "El filtrar una imagen (f) consisten en aplicar una transformación (T ) para obtener una nueva imagen (g) de\n",
    "forma que ciertas características son acentuadas o disminuidas.\n",
    "\n",
    "Foto original * kernel = foto filtrada.   kernel[0,1] = suabizado \n",
    "Filtro de promedio o media: obtiene el promedio con los pixeles vecinos (suabizado) (quita desenfoque)\n",
    "filtro de mediana: : Substituye el valor del pixel central por el de la mediana de los adjacentes (suabizado)\n",
    "\n",
    "Filtrado en el dominio de la frecuencia\n",
    "\n",
    "Pasa bajos: elimino las altas fercuencias (elimina los bordes) Los borden son invariantes a los cambios de iluminacion\n",
    "\n",
    "Pasa altos: elimino las bajas frecuencias\n",
    "\n",
    "Pasa banda: elimino un rango de frecuencias \n",
    "\n",
    "Para aumentar el contraste una buena idea seria. \n"
   ]
  },
  {
   "cell_type": "code",
   "execution_count": null,
   "metadata": {},
   "outputs": [],
   "source": []
  },
  {
   "cell_type": "markdown",
   "metadata": {},
   "source": []
  }
 ],
 "metadata": {
  "kernelspec": {
   "display_name": "Python 3",
   "language": "python",
   "name": "python3"
  },
  "language_info": {
   "codemirror_mode": {
    "name": "ipython",
    "version": 3
   },
   "file_extension": ".py",
   "mimetype": "text/x-python",
   "name": "python",
   "nbconvert_exporter": "python",
   "pygments_lexer": "ipython3",
   "version": "3.11.4"
  }
 },
 "nbformat": 4,
 "nbformat_minor": 2
}
